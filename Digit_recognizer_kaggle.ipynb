{
  "nbformat": 4,
  "nbformat_minor": 0,
  "metadata": {
    "colab": {
      "name": "Digit_recognizer_kaggle.ipynb",
      "provenance": [],
      "authorship_tag": "ABX9TyOd5ORsHj+SoH+X3OonVB2c",
      "include_colab_link": true
    },
    "kernelspec": {
      "name": "python3",
      "display_name": "Python 3"
    }
  },
  "cells": [
    {
      "cell_type": "markdown",
      "metadata": {
        "id": "view-in-github",
        "colab_type": "text"
      },
      "source": [
        "<a href=\"https://colab.research.google.com/github/tanmey007/kaggle/blob/master/Digit_recognizer_kaggle.ipynb\" target=\"_parent\"><img src=\"https://colab.research.google.com/assets/colab-badge.svg\" alt=\"Open In Colab\"/></a>"
      ]
    },
    {
      "cell_type": "markdown",
      "metadata": {
        "id": "zu_PLW1Ih_iH",
        "colab_type": "text"
      },
      "source": [
        "## Libraries Imported"
      ]
    },
    {
      "cell_type": "code",
      "metadata": {
        "id": "pY_WkYRUiTPE",
        "colab_type": "code",
        "colab": {
          "base_uri": "https://localhost:8080/",
          "height": 70
        },
        "outputId": "6ab1cb08-eb97-4e1f-d4f3-d026a0371886"
      },
      "source": [
        "from google.colab import files\n",
        "import pandas as pd\n",
        "import matplotlib.pyplot as plt\n",
        "import seaborn as sns\n",
        "from google.colab import drive\n",
        "import os\n",
        "import numpy as np\n",
        "import tensorflow as tf\n",
        "from tensorflow import keras"
      ],
      "execution_count": 1,
      "outputs": [
        {
          "output_type": "stream",
          "text": [
            "/usr/local/lib/python3.6/dist-packages/statsmodels/tools/_testing.py:19: FutureWarning: pandas.util.testing is deprecated. Use the functions in the public API at pandas.testing instead.\n",
            "  import pandas.util.testing as tm\n"
          ],
          "name": "stderr"
        }
      ]
    },
    {
      "cell_type": "markdown",
      "metadata": {
        "id": "O6N47jBAKO9q",
        "colab_type": "text"
      },
      "source": [
        "## Loading dataset"
      ]
    },
    {
      "cell_type": "code",
      "metadata": {
        "id": "bh-cbb09JzXC",
        "colab_type": "code",
        "colab": {
          "base_uri": "https://localhost:8080/",
          "height": 34
        },
        "outputId": "de3d5ed1-06e9-4f1c-b540-c748d4a6d569"
      },
      "source": [
        "drive.mount('/content/drive')\n",
        "dataset=pd.read_csv('/content/drive/My Drive/ML_datasets/train.csv')\n"
      ],
      "execution_count": 2,
      "outputs": [
        {
          "output_type": "stream",
          "text": [
            "Drive already mounted at /content/drive; to attempt to forcibly remount, call drive.mount(\"/content/drive\", force_remount=True).\n"
          ],
          "name": "stdout"
        }
      ]
    },
    {
      "cell_type": "code",
      "metadata": {
        "id": "8KCcy_VFQJzw",
        "colab_type": "code",
        "colab": {}
      },
      "source": [
        "X_test=pd.read_csv('/content/drive/My Drive/ML_datasets/test.csv')"
      ],
      "execution_count": 3,
      "outputs": []
    },
    {
      "cell_type": "markdown",
      "metadata": {
        "id": "i2K28f4bKSr6",
        "colab_type": "text"
      },
      "source": [
        "## Separation of target and attributes"
      ]
    },
    {
      "cell_type": "code",
      "metadata": {
        "id": "elK1GkdgJ7eQ",
        "colab_type": "code",
        "colab": {}
      },
      "source": [
        "y=dataset['label']"
      ],
      "execution_count": 4,
      "outputs": []
    },
    {
      "cell_type": "code",
      "metadata": {
        "id": "P-eqTkWIKAtD",
        "colab_type": "code",
        "colab": {}
      },
      "source": [
        "X=dataset.drop('label',axis=1)"
      ],
      "execution_count": 5,
      "outputs": []
    },
    {
      "cell_type": "code",
      "metadata": {
        "id": "osLJkVEjSTEW",
        "colab_type": "code",
        "colab": {
          "base_uri": "https://localhost:8080/",
          "height": 34
        },
        "outputId": "23b6c2e3-e157-4a04-bf67-88a730421de2"
      },
      "source": [
        "X.shape"
      ],
      "execution_count": 6,
      "outputs": [
        {
          "output_type": "execute_result",
          "data": {
            "text/plain": [
              "(42000, 784)"
            ]
          },
          "metadata": {
            "tags": []
          },
          "execution_count": 6
        }
      ]
    },
    {
      "cell_type": "markdown",
      "metadata": {
        "id": "crCLvgrwv3RK",
        "colab_type": "text"
      },
      "source": [
        "### Creating validation set and standardizing the values"
      ]
    },
    {
      "cell_type": "code",
      "metadata": {
        "id": "Gzquqe54KgHt",
        "colab_type": "code",
        "colab": {}
      },
      "source": [
        "X_valid,X_train=X[:5000]/255.0,X[5000:]/255.0"
      ],
      "execution_count": 7,
      "outputs": []
    },
    {
      "cell_type": "code",
      "metadata": {
        "id": "yOU5OHtJK1gp",
        "colab_type": "code",
        "colab": {}
      },
      "source": [
        "y_valid,y_train=y[:5000],y[5000:]"
      ],
      "execution_count": 8,
      "outputs": []
    },
    {
      "cell_type": "code",
      "metadata": {
        "id": "mZwCEh33UFq0",
        "colab_type": "code",
        "colab": {
          "base_uri": "https://localhost:8080/",
          "height": 34
        },
        "outputId": "7ef6372a-c49f-4fea-c0b2-e7ec922ae973"
      },
      "source": [
        "X_train.shape"
      ],
      "execution_count": 9,
      "outputs": [
        {
          "output_type": "execute_result",
          "data": {
            "text/plain": [
              "(37000, 784)"
            ]
          },
          "metadata": {
            "tags": []
          },
          "execution_count": 9
        }
      ]
    },
    {
      "cell_type": "code",
      "metadata": {
        "id": "saCz5JbPQQuM",
        "colab_type": "code",
        "colab": {}
      },
      "source": [
        "X_test=X_test/255.0"
      ],
      "execution_count": 10,
      "outputs": []
    },
    {
      "cell_type": "markdown",
      "metadata": {
        "id": "SLhpmpaULJfH",
        "colab_type": "text"
      },
      "source": [
        "## Creating model"
      ]
    },
    {
      "cell_type": "markdown",
      "metadata": {
        "id": "FLsaK3myJWN4",
        "colab_type": "text"
      },
      "source": [
        "### finding optimal learning rate"
      ]
    },
    {
      "cell_type": "code",
      "metadata": {
        "id": "i_q01wHkLOAa",
        "colab_type": "code",
        "colab": {}
      },
      "source": [
        "model = keras.models.Sequential()\n",
        "model.add(keras.layers.Flatten(input_shape=[784,1]))\n",
        "model.add(keras.layers.Dense(300, activation=\"relu\"))\n",
        "model.add(keras.layers.Dense(100, activation=\"relu\"))\n",
        "model.add(keras.layers.Dense(10, activation=\"softmax\"))"
      ],
      "execution_count": 11,
      "outputs": []
    },
    {
      "cell_type": "code",
      "metadata": {
        "id": "UsuJWzdTNXsV",
        "colab_type": "code",
        "colab": {}
      },
      "source": [
        "model.compile(loss=\"sparse_categorical_crossentropy\",\n",
        "              optimizer=keras.optimizers.SGD(lr=1e-3),\n",
        "              metrics=[\"accuracy\"])"
      ],
      "execution_count": 12,
      "outputs": []
    },
    {
      "cell_type": "code",
      "metadata": {
        "id": "3T-LZfBHRax6",
        "colab_type": "code",
        "colab": {
          "base_uri": "https://localhost:8080/",
          "height": 286
        },
        "outputId": "6f7eb084-4dbf-4706-ffe0-d2d5de479ab4"
      },
      "source": [
        "model.summary()"
      ],
      "execution_count": 13,
      "outputs": [
        {
          "output_type": "stream",
          "text": [
            "Model: \"sequential\"\n",
            "_________________________________________________________________\n",
            "Layer (type)                 Output Shape              Param #   \n",
            "=================================================================\n",
            "flatten (Flatten)            (None, 784)               0         \n",
            "_________________________________________________________________\n",
            "dense (Dense)                (None, 300)               235500    \n",
            "_________________________________________________________________\n",
            "dense_1 (Dense)              (None, 100)               30100     \n",
            "_________________________________________________________________\n",
            "dense_2 (Dense)              (None, 10)                1010      \n",
            "=================================================================\n",
            "Total params: 266,610\n",
            "Trainable params: 266,610\n",
            "Non-trainable params: 0\n",
            "_________________________________________________________________\n"
          ],
          "name": "stdout"
        }
      ]
    },
    {
      "cell_type": "code",
      "metadata": {
        "id": "ALmMvXXlLl9w",
        "colab_type": "code",
        "colab": {
          "base_uri": "https://localhost:8080/",
          "height": 1000
        },
        "outputId": "3effbc6f-ebd2-4e75-bbfe-4c18f83dc4dc"
      },
      "source": [
        "history = model.fit(X_train, y_train, epochs=50,validation_data=(X_valid, y_valid))"
      ],
      "execution_count": 24,
      "outputs": [
        {
          "output_type": "stream",
          "text": [
            "Epoch 1/50\n",
            "1157/1157 [==============================] - 3s 3ms/step - loss: 0.1143 - accuracy: 0.9685 - val_loss: 0.1337 - val_accuracy: 0.9636\n",
            "Epoch 2/50\n",
            "1157/1157 [==============================] - 3s 3ms/step - loss: 0.1134 - accuracy: 0.9688 - val_loss: 0.1332 - val_accuracy: 0.9626\n",
            "Epoch 3/50\n",
            "1157/1157 [==============================] - 3s 3ms/step - loss: 0.1126 - accuracy: 0.9692 - val_loss: 0.1325 - val_accuracy: 0.9640\n",
            "Epoch 4/50\n",
            "1157/1157 [==============================] - 3s 3ms/step - loss: 0.1117 - accuracy: 0.9691 - val_loss: 0.1318 - val_accuracy: 0.9630\n",
            "Epoch 5/50\n",
            "1157/1157 [==============================] - 4s 3ms/step - loss: 0.1108 - accuracy: 0.9693 - val_loss: 0.1311 - val_accuracy: 0.9626\n",
            "Epoch 6/50\n",
            "1157/1157 [==============================] - 3s 3ms/step - loss: 0.1100 - accuracy: 0.9697 - val_loss: 0.1307 - val_accuracy: 0.9626\n",
            "Epoch 7/50\n",
            "1157/1157 [==============================] - 3s 3ms/step - loss: 0.1091 - accuracy: 0.9701 - val_loss: 0.1300 - val_accuracy: 0.9632\n",
            "Epoch 8/50\n",
            "1157/1157 [==============================] - 3s 3ms/step - loss: 0.1083 - accuracy: 0.9703 - val_loss: 0.1294 - val_accuracy: 0.9640\n",
            "Epoch 9/50\n",
            "1157/1157 [==============================] - 3s 3ms/step - loss: 0.1075 - accuracy: 0.9704 - val_loss: 0.1288 - val_accuracy: 0.9638\n",
            "Epoch 10/50\n",
            "1157/1157 [==============================] - 3s 3ms/step - loss: 0.1066 - accuracy: 0.9707 - val_loss: 0.1286 - val_accuracy: 0.9626\n",
            "Epoch 11/50\n",
            "1157/1157 [==============================] - 3s 3ms/step - loss: 0.1059 - accuracy: 0.9708 - val_loss: 0.1273 - val_accuracy: 0.9632\n",
            "Epoch 12/50\n",
            "1157/1157 [==============================] - 3s 3ms/step - loss: 0.1051 - accuracy: 0.9709 - val_loss: 0.1273 - val_accuracy: 0.9642\n",
            "Epoch 13/50\n",
            "1157/1157 [==============================] - 3s 3ms/step - loss: 0.1042 - accuracy: 0.9718 - val_loss: 0.1262 - val_accuracy: 0.9640\n",
            "Epoch 14/50\n",
            "1157/1157 [==============================] - 4s 3ms/step - loss: 0.1035 - accuracy: 0.9719 - val_loss: 0.1256 - val_accuracy: 0.9636\n",
            "Epoch 15/50\n",
            "1157/1157 [==============================] - 3s 3ms/step - loss: 0.1026 - accuracy: 0.9719 - val_loss: 0.1253 - val_accuracy: 0.9648\n",
            "Epoch 16/50\n",
            "1157/1157 [==============================] - 3s 3ms/step - loss: 0.1019 - accuracy: 0.9718 - val_loss: 0.1246 - val_accuracy: 0.9646\n",
            "Epoch 17/50\n",
            "1157/1157 [==============================] - 3s 3ms/step - loss: 0.1011 - accuracy: 0.9723 - val_loss: 0.1240 - val_accuracy: 0.9640\n",
            "Epoch 18/50\n",
            "1157/1157 [==============================] - 3s 3ms/step - loss: 0.1004 - accuracy: 0.9726 - val_loss: 0.1237 - val_accuracy: 0.9638\n",
            "Epoch 19/50\n",
            "1157/1157 [==============================] - 3s 3ms/step - loss: 0.0997 - accuracy: 0.9728 - val_loss: 0.1231 - val_accuracy: 0.9650\n",
            "Epoch 20/50\n",
            "1157/1157 [==============================] - 3s 3ms/step - loss: 0.0990 - accuracy: 0.9731 - val_loss: 0.1222 - val_accuracy: 0.9650\n",
            "Epoch 21/50\n",
            "1157/1157 [==============================] - 3s 3ms/step - loss: 0.0982 - accuracy: 0.9734 - val_loss: 0.1217 - val_accuracy: 0.9654\n",
            "Epoch 22/50\n",
            "1157/1157 [==============================] - 4s 3ms/step - loss: 0.0975 - accuracy: 0.9733 - val_loss: 0.1212 - val_accuracy: 0.9648\n",
            "Epoch 23/50\n",
            "1157/1157 [==============================] - 4s 3ms/step - loss: 0.0967 - accuracy: 0.9737 - val_loss: 0.1207 - val_accuracy: 0.9652\n",
            "Epoch 24/50\n",
            "1157/1157 [==============================] - 3s 3ms/step - loss: 0.0960 - accuracy: 0.9740 - val_loss: 0.1208 - val_accuracy: 0.9646\n",
            "Epoch 25/50\n",
            "1157/1157 [==============================] - 3s 3ms/step - loss: 0.0953 - accuracy: 0.9741 - val_loss: 0.1200 - val_accuracy: 0.9650\n",
            "Epoch 26/50\n",
            "1157/1157 [==============================] - 3s 3ms/step - loss: 0.0947 - accuracy: 0.9744 - val_loss: 0.1194 - val_accuracy: 0.9650\n",
            "Epoch 27/50\n",
            "1157/1157 [==============================] - 3s 3ms/step - loss: 0.0940 - accuracy: 0.9746 - val_loss: 0.1193 - val_accuracy: 0.9646\n",
            "Epoch 28/50\n",
            "1157/1157 [==============================] - 3s 3ms/step - loss: 0.0933 - accuracy: 0.9748 - val_loss: 0.1183 - val_accuracy: 0.9658\n",
            "Epoch 29/50\n",
            "1157/1157 [==============================] - 3s 3ms/step - loss: 0.0926 - accuracy: 0.9746 - val_loss: 0.1180 - val_accuracy: 0.9662\n",
            "Epoch 30/50\n",
            "1157/1157 [==============================] - 4s 3ms/step - loss: 0.0920 - accuracy: 0.9752 - val_loss: 0.1173 - val_accuracy: 0.9670\n",
            "Epoch 31/50\n",
            "1157/1157 [==============================] - 4s 3ms/step - loss: 0.0914 - accuracy: 0.9750 - val_loss: 0.1171 - val_accuracy: 0.9666\n",
            "Epoch 32/50\n",
            "1157/1157 [==============================] - 3s 3ms/step - loss: 0.0907 - accuracy: 0.9753 - val_loss: 0.1163 - val_accuracy: 0.9660\n",
            "Epoch 33/50\n",
            "1157/1157 [==============================] - 3s 3ms/step - loss: 0.0900 - accuracy: 0.9757 - val_loss: 0.1161 - val_accuracy: 0.9660\n",
            "Epoch 34/50\n",
            "1157/1157 [==============================] - 4s 3ms/step - loss: 0.0894 - accuracy: 0.9758 - val_loss: 0.1157 - val_accuracy: 0.9662\n",
            "Epoch 35/50\n",
            "1157/1157 [==============================] - 4s 3ms/step - loss: 0.0888 - accuracy: 0.9759 - val_loss: 0.1150 - val_accuracy: 0.9664\n",
            "Epoch 36/50\n",
            "1157/1157 [==============================] - 3s 3ms/step - loss: 0.0882 - accuracy: 0.9758 - val_loss: 0.1149 - val_accuracy: 0.9668\n",
            "Epoch 37/50\n",
            "1157/1157 [==============================] - 3s 3ms/step - loss: 0.0875 - accuracy: 0.9764 - val_loss: 0.1141 - val_accuracy: 0.9672\n",
            "Epoch 38/50\n",
            "1157/1157 [==============================] - 4s 3ms/step - loss: 0.0869 - accuracy: 0.9763 - val_loss: 0.1139 - val_accuracy: 0.9668\n",
            "Epoch 39/50\n",
            "1157/1157 [==============================] - 3s 3ms/step - loss: 0.0864 - accuracy: 0.9767 - val_loss: 0.1134 - val_accuracy: 0.9666\n",
            "Epoch 40/50\n",
            "1157/1157 [==============================] - 4s 3ms/step - loss: 0.0857 - accuracy: 0.9769 - val_loss: 0.1130 - val_accuracy: 0.9676\n",
            "Epoch 41/50\n",
            "1157/1157 [==============================] - 4s 3ms/step - loss: 0.0850 - accuracy: 0.9771 - val_loss: 0.1127 - val_accuracy: 0.9666\n",
            "Epoch 42/50\n",
            "1157/1157 [==============================] - 4s 3ms/step - loss: 0.0845 - accuracy: 0.9769 - val_loss: 0.1124 - val_accuracy: 0.9678\n",
            "Epoch 43/50\n",
            "1157/1157 [==============================] - 4s 3ms/step - loss: 0.0839 - accuracy: 0.9774 - val_loss: 0.1119 - val_accuracy: 0.9678\n",
            "Epoch 44/50\n",
            "1157/1157 [==============================] - 4s 3ms/step - loss: 0.0834 - accuracy: 0.9775 - val_loss: 0.1110 - val_accuracy: 0.9676\n",
            "Epoch 45/50\n",
            "1157/1157 [==============================] - 4s 3ms/step - loss: 0.0828 - accuracy: 0.9778 - val_loss: 0.1109 - val_accuracy: 0.9678\n",
            "Epoch 46/50\n",
            "1157/1157 [==============================] - 4s 3ms/step - loss: 0.0823 - accuracy: 0.9778 - val_loss: 0.1105 - val_accuracy: 0.9670\n",
            "Epoch 47/50\n",
            "1157/1157 [==============================] - 4s 3ms/step - loss: 0.0817 - accuracy: 0.9780 - val_loss: 0.1103 - val_accuracy: 0.9678\n",
            "Epoch 48/50\n",
            "1157/1157 [==============================] - 4s 3ms/step - loss: 0.0811 - accuracy: 0.9782 - val_loss: 0.1095 - val_accuracy: 0.9680\n",
            "Epoch 49/50\n",
            "1157/1157 [==============================] - 4s 3ms/step - loss: 0.0806 - accuracy: 0.9783 - val_loss: 0.1095 - val_accuracy: 0.9680\n",
            "Epoch 50/50\n",
            "1157/1157 [==============================] - 4s 3ms/step - loss: 0.0800 - accuracy: 0.9785 - val_loss: 0.1089 - val_accuracy: 0.9676\n"
          ],
          "name": "stdout"
        }
      ]
    },
    {
      "cell_type": "markdown",
      "metadata": {
        "id": "vc2fpNjxQZb7",
        "colab_type": "text"
      },
      "source": [
        "## Output on test set"
      ]
    },
    {
      "cell_type": "code",
      "metadata": {
        "id": "kTJ-os7HQ2A4",
        "colab_type": "code",
        "colab": {
          "base_uri": "https://localhost:8080/",
          "height": 34
        },
        "outputId": "fed5e15e-b3ac-4bc0-dc70-9b5ade9b0fe8"
      },
      "source": [
        "X_test.shape"
      ],
      "execution_count": 15,
      "outputs": [
        {
          "output_type": "execute_result",
          "data": {
            "text/plain": [
              "(28000, 784)"
            ]
          },
          "metadata": {
            "tags": []
          },
          "execution_count": 15
        }
      ]
    },
    {
      "cell_type": "code",
      "metadata": {
        "id": "zALh-stzQYnD",
        "colab_type": "code",
        "colab": {
          "base_uri": "https://localhost:8080/",
          "height": 87
        },
        "outputId": "ddd6d49a-4667-45f2-b7cb-786fbd44ac0c"
      },
      "source": [
        "y_test=model.predict_classes(X_test)"
      ],
      "execution_count": 16,
      "outputs": [
        {
          "output_type": "stream",
          "text": [
            "WARNING:tensorflow:From <ipython-input-16-6147481fb98d>:1: Sequential.predict_classes (from tensorflow.python.keras.engine.sequential) is deprecated and will be removed after 2021-01-01.\n",
            "Instructions for updating:\n",
            "Please use instead:* `np.argmax(model.predict(x), axis=-1)`,   if your model does multi-class classification   (e.g. if it uses a `softmax` last-layer activation).* `(model.predict(x) > 0.5).astype(\"int32\")`,   if your model does binary classification   (e.g. if it uses a `sigmoid` last-layer activation).\n"
          ],
          "name": "stdout"
        }
      ]
    },
    {
      "cell_type": "code",
      "metadata": {
        "id": "ExSSIGLcVuKK",
        "colab_type": "code",
        "colab": {}
      },
      "source": [
        "y_output=pd.DataFrame(y_test,columns=['Label'])"
      ],
      "execution_count": 17,
      "outputs": []
    },
    {
      "cell_type": "code",
      "metadata": {
        "id": "QNMYxtycV-Db",
        "colab_type": "code",
        "colab": {}
      },
      "source": [
        "y_output.index.name='ImageId'"
      ],
      "execution_count": 18,
      "outputs": []
    },
    {
      "cell_type": "code",
      "metadata": {
        "id": "f5uYriVSV5pr",
        "colab_type": "code",
        "colab": {
          "base_uri": "https://localhost:8080/",
          "height": 225
        },
        "outputId": "344eeeac-9bc7-43ac-f0fe-044293123b4c"
      },
      "source": [
        "y_output.head(5)"
      ],
      "execution_count": 19,
      "outputs": [
        {
          "output_type": "execute_result",
          "data": {
            "text/html": [
              "<div>\n",
              "<style scoped>\n",
              "    .dataframe tbody tr th:only-of-type {\n",
              "        vertical-align: middle;\n",
              "    }\n",
              "\n",
              "    .dataframe tbody tr th {\n",
              "        vertical-align: top;\n",
              "    }\n",
              "\n",
              "    .dataframe thead th {\n",
              "        text-align: right;\n",
              "    }\n",
              "</style>\n",
              "<table border=\"1\" class=\"dataframe\">\n",
              "  <thead>\n",
              "    <tr style=\"text-align: right;\">\n",
              "      <th></th>\n",
              "      <th>Label</th>\n",
              "    </tr>\n",
              "    <tr>\n",
              "      <th>ImageId</th>\n",
              "      <th></th>\n",
              "    </tr>\n",
              "  </thead>\n",
              "  <tbody>\n",
              "    <tr>\n",
              "      <th>0</th>\n",
              "      <td>2</td>\n",
              "    </tr>\n",
              "    <tr>\n",
              "      <th>1</th>\n",
              "      <td>0</td>\n",
              "    </tr>\n",
              "    <tr>\n",
              "      <th>2</th>\n",
              "      <td>9</td>\n",
              "    </tr>\n",
              "    <tr>\n",
              "      <th>3</th>\n",
              "      <td>9</td>\n",
              "    </tr>\n",
              "    <tr>\n",
              "      <th>4</th>\n",
              "      <td>3</td>\n",
              "    </tr>\n",
              "  </tbody>\n",
              "</table>\n",
              "</div>"
            ],
            "text/plain": [
              "         Label\n",
              "ImageId       \n",
              "0            2\n",
              "1            0\n",
              "2            9\n",
              "3            9\n",
              "4            3"
            ]
          },
          "metadata": {
            "tags": []
          },
          "execution_count": 19
        }
      ]
    },
    {
      "cell_type": "code",
      "metadata": {
        "id": "alqWxrPLasAQ",
        "colab_type": "code",
        "colab": {}
      },
      "source": [
        "y_output.index=y_output.index+1"
      ],
      "execution_count": 20,
      "outputs": []
    },
    {
      "cell_type": "markdown",
      "metadata": {
        "id": "WJJg7piKXYzI",
        "colab_type": "text"
      },
      "source": [
        "## Output in Excel"
      ]
    },
    {
      "cell_type": "code",
      "metadata": {
        "id": "icejlhNFXb38",
        "colab_type": "code",
        "colab": {}
      },
      "source": [
        "y_output.to_csv('digit_recg_1.0.csv')"
      ],
      "execution_count": 21,
      "outputs": []
    },
    {
      "cell_type": "code",
      "metadata": {
        "id": "xWr3RVsxXr0E",
        "colab_type": "code",
        "colab": {
          "base_uri": "https://localhost:8080/",
          "height": 17
        },
        "outputId": "0502af1c-9738-4b12-e91c-b337e885ddfe"
      },
      "source": [
        "files.download('digit_recg_1.0.csv')"
      ],
      "execution_count": 22,
      "outputs": [
        {
          "output_type": "display_data",
          "data": {
            "application/javascript": [
              "\n",
              "    async function download(id, filename, size) {\n",
              "      if (!google.colab.kernel.accessAllowed) {\n",
              "        return;\n",
              "      }\n",
              "      const div = document.createElement('div');\n",
              "      const label = document.createElement('label');\n",
              "      label.textContent = `Downloading \"${filename}\": `;\n",
              "      div.appendChild(label);\n",
              "      const progress = document.createElement('progress');\n",
              "      progress.max = size;\n",
              "      div.appendChild(progress);\n",
              "      document.body.appendChild(div);\n",
              "\n",
              "      const buffers = [];\n",
              "      let downloaded = 0;\n",
              "\n",
              "      const channel = await google.colab.kernel.comms.open(id);\n",
              "      // Send a message to notify the kernel that we're ready.\n",
              "      channel.send({})\n",
              "\n",
              "      for await (const message of channel.messages) {\n",
              "        // Send a message to notify the kernel that we're ready.\n",
              "        channel.send({})\n",
              "        if (message.buffers) {\n",
              "          for (const buffer of message.buffers) {\n",
              "            buffers.push(buffer);\n",
              "            downloaded += buffer.byteLength;\n",
              "            progress.value = downloaded;\n",
              "          }\n",
              "        }\n",
              "      }\n",
              "      const blob = new Blob(buffers, {type: 'application/binary'});\n",
              "      const a = document.createElement('a');\n",
              "      a.href = window.URL.createObjectURL(blob);\n",
              "      a.download = filename;\n",
              "      div.appendChild(a);\n",
              "      a.click();\n",
              "      div.remove();\n",
              "    }\n",
              "  "
            ],
            "text/plain": [
              "<IPython.core.display.Javascript object>"
            ]
          },
          "metadata": {
            "tags": []
          }
        },
        {
          "output_type": "display_data",
          "data": {
            "application/javascript": [
              "download(\"download_df8ae31f-0ca1-46a8-820d-1f88ad86aedb\", \"digit_recg_1.0.csv\", 212908)"
            ],
            "text/plain": [
              "<IPython.core.display.Javascript object>"
            ]
          },
          "metadata": {
            "tags": []
          }
        }
      ]
    }
  ]
}